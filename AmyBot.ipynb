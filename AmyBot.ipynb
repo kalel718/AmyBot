{
  "nbformat": 4,
  "nbformat_minor": 0,
  "metadata": {
    "colab": {
      "provenance": [],
      "authorship_tag": "ABX9TyMeotvtfxGNRhAL2oFrX8No",
      "include_colab_link": true
    },
    "kernelspec": {
      "name": "python3",
      "display_name": "Python 3"
    },
    "language_info": {
      "name": "python"
    }
  },
  "cells": [
    {
      "cell_type": "markdown",
      "metadata": {
        "id": "view-in-github",
        "colab_type": "text"
      },
      "source": [
        "<a href=\"https://colab.research.google.com/github/kalel718/AmyBot/blob/main/AmyBot.ipynb\" target=\"_parent\"><img src=\"https://colab.research.google.com/assets/colab-badge.svg\" alt=\"Open In Colab\"/></a>"
      ]
    },
    {
      "cell_type": "code",
      "execution_count": 32,
      "metadata": {
        "colab": {
          "base_uri": "https://localhost:8080/"
        },
        "id": "7OVnPr6tp9nu",
        "outputId": "b0e53338-113a-4f17-9342-2383a322717b"
      },
      "outputs": [
        {
          "output_type": "stream",
          "name": "stdout",
          "text": [
            "Hello! I'm Amy, your virtual assistant at MY FIT. How can I help you today?\n",
            "You: return a shirt\n",
            "Amy: To process your return, we'll need either your receipt or the phone number/email associated with your purchase. Do you have your receipt with you?\n",
            "You: no\n",
            "Amy: If you don't have your receipt, no worries! We can look up your purchase using your phone number or email address. Would you like to provide your phone number or email?\n",
            "You: phone\n",
            "Amy: Great! What is your phone number?\n",
            "You: 555-555-5555\n",
            "Amy: Thank you, now let me look up your purchase, one moment please......\n",
            "Amy: Ok I found it, I will send you a message to your phone that will send a link to our return shipping info.Everything is taken care of for you just have to download the return label and drop off at any UPS, FedEx or post office.Is there anything else I can assist with?\n",
            "You: exit\n",
            "Amy: Thank you for chatting with me. Have a great day!\n"
          ]
        }
      ],
      "source": [
        "import re\n",
        "from datetime import datetime, timedelta\n",
        "\n",
        "class AmyBot:\n",
        "    def __init__(self):\n",
        "        self.store_name = \"MY FIT\"\n",
        "        self.current_state = \"initial\"\n",
        "        self.customer_info = None\n",
        "\n",
        "    def greet(self):\n",
        "        return f\"Hello! I'm Amy, your virtual assistant at {self.store_name}. How can I help you today?\"\n",
        "\n",
        "    def process_input(self, user_input):\n",
        "        user_input = user_input.lower()\n",
        "\n",
        "        if self.current_state == \"initial\" and re.search(r'\\breturn\\b', user_input):\n",
        "            self.current_state = \"asking_for_receipt\"\n",
        "            return \"To process your return, we'll need either your receipt or the phone number/email associated with your purchase. Do you have your receipt with you?\"\n",
        "\n",
        "        elif self.current_state == \"asking_for_receipt\":\n",
        "            if re.search(r'\\bno\\b', user_input):\n",
        "                self.current_state = \"requesting_contact\"\n",
        "                return \"If you don't have your receipt, no worries! We can look up your purchase using your phone number or email address. Would you like to provide your phone number or email?\"\n",
        "            else:\n",
        "                return \"I'm sorry, I didn't catch that. Could you please confirm if you have your receipt or not?\"\n",
        "\n",
        "        elif self.current_state == \"requesting_contact\":\n",
        "            if re.search(r'\\bphone\\b', user_input):\n",
        "                self.current_state = \"awaiting_phone\"\n",
        "                return \"Great! What is your phone number?\"\n",
        "            elif re.search(r'\\bemail\\b', user_input):\n",
        "                self.current_state = \"awaiting_email\"\n",
        "                return \"Great! What is your email address?\"\n",
        "            else:\n",
        "                return \"I'm sorry, I didn't understand. Could you specify if you'd like to provide your phone number or email?\"\n",
        "\n",
        "        elif self.current_state in [\"awaiting_phone\", \"awaiting_email\"]:\n",
        "            return self.process_contact_info(user_input)\n",
        "\n",
        "        else:\n",
        "            return \"I'm not sure I understood. Could you please rephrase your question or concern?\"\n",
        "\n",
        "    def process_contact_info(self, contact_info):\n",
        "        print(\"Amy: Thank you, now let me look up your purchase, one moment please......\")\n",
        "\n",
        "        if contact_info == \"555-555-5555\" or contact_info == \"myfit23@fit.com\":\n",
        "            self.current_state = \"return_processed\"\n",
        "            return  (\"Ok I found it, I will send you a message to your phone that will send a link to our return shipping info.\"\n",
        "                    \"Everything is taken care of for you just have to download the return label and drop off at any UPS, FedEx or post office.\"\n",
        "                    \"Is there anything else I can assist with?\")\n",
        "        else:\n",
        "            return  (\"I'm sorry, I couldn't find any purchase information with that contact detail\"\n",
        "                    \"Could you please check and provide either your phone number (555-555-5555) or email (myfit23@fit.com)?\")\n",
        "\n",
        "    def final_response(self):\n",
        "        return (\"You're welcome! I'm glad I could help with your return.\"\n",
        "                \"The return label and instructions will be sent to your phone shortly.\"\n",
        "                \"If you need any further assistance, don't hesitate to ask. Have a great day.\")\n",
        "\n",
        "# Create an instance of AmyBot\n",
        "amy = AmyBot()\n",
        "\n",
        "# Simulate a conversation\n",
        "print(amy.greet())\n",
        "while True:\n",
        "    user_input = input(\"You: \")\n",
        "    if user_input.lower() == 'exit':\n",
        "        print(\"Amy: Thank you for chatting with me. Have a great day!\")\n",
        "        break\n",
        "    response = amy.process_input(user_input)\n",
        "    print(\"Amy:\", response)\n",
        "    if amy.current_state == \"return_processed\" and re.search(r'\\bno\\b|\\bthanks\\b|\\bthank you\\b', user_input.lower()):\n",
        "        print(\"Amy:\", amy.final_response())\n",
        "        break"
      ]
    }
  ]
}